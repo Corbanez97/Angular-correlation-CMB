{
 "cells": [
  {
   "cell_type": "code",
   "execution_count": 201,
   "metadata": {},
   "outputs": [
    {
     "data": {
      "text/plain": [
       "(1, 0.1)"
      ]
     },
     "execution_count": 201,
     "metadata": {},
     "output_type": "execute_result"
    },
    {
     "data": {
      "image/png": "[encoded data removed]",
      "text/plain": [
       "<Figure size 432x288 with 1 Axes>"
      ]
     },
     "metadata": {
      "needs_background": "light"
     },
     "output_type": "display_data"
    }
   ],
   "source": [
    "import numpy as np\n",
    "import matplotlib.pyplot as plt\n",
    "\n",
    "m_e = 0.510998e5\n",
    "h_bar = 6.582e-16\n",
    "k_b = 8.617e-5\n",
    "e_i = 13.6\n",
    "\n",
    "#T is proportional to T_0(1+z)#\n",
    "\n",
    "def y_z(z):\n",
    "    return(1e9*(m_e * k_b)**1.5/ (2*np.pi * (h_bar)**2 * (z))**1.5)*(np.exp(-e_i/(k_b * z)))\n",
    "\n",
    "def x_e_y(y):\n",
    "    return ((-y + (y**2 +4*y)**0.5)/2)\n",
    "\n",
    "z = []\n",
    "x_e = []\n",
    "l = np.linspace(1e-9, 1, 50000)\n",
    "\n",
    "for i in range(len(l)):\n",
    "    z.append(l[i])\n",
    "    y = y_z(l[i])\n",
    "    x = x_e_y(y)\n",
    "    x_e.append(x)\n",
    "\n",
    "plt.plot(z, x_e)\n",
    "plt.xscale('log')\n",
    "plt.xlim(1,0.1)\n"
   ]
  },
  {
   "cell_type": "code",
   "execution_count": 202,
   "metadata": {},
   "outputs": [
    {
     "name": "stdout",
     "output_type": "stream",
     "text": [
      "0.0\n"
     ]
    },
    {
     "data": {
      "image/png": "[encoded data removed]",
      "text/plain": [
       "<Figure size 432x288 with 1 Axes>"
      ]
     },
     "metadata": {
      "needs_background": "light"
     },
     "output_type": "display_data"
    }
   ],
   "source": [
    "def a(i):\n",
    "    a = (1e9 * (m_e * k_b/i) ** 1.5) * np.exp(-e_i/k_b * i)\n",
    "    return (-a + np.sqrt(a**2 - 4*a))/2\n",
    "\n",
    "print(a(0.36659))\n",
    "i = np.linspace(0.36659, 1, 50000)\n",
    "T = []\n",
    "x_e = []\n",
    "\n",
    "for j in range(len(i)):\n",
    "    T.append(i[j])\n",
    "    x_e.append(a(i[j]))\n",
    "\n",
    "plt.plot(T, x_e)\n",
    "plt.xlim(1, 0.3)\n",
    "plt.xscale('log')\n"
   ]
  },
  {
   "cell_type": "code",
   "execution_count": null,
   "metadata": {},
   "outputs": [],
   "source": []
  }
 ],
 "metadata": {
  "kernelspec": {
   "display_name": "Python 3",
   "language": "python",
   "name": "python3"
  },
  "language_info": {
   "codemirror_mode": {
    "name": "ipython",
    "version": 3
   },
   "file_extension": ".py",
   "mimetype": "text/x-python",
   "name": "python",
   "nbconvert_exporter": "python",
   "pygments_lexer": "ipython3",
   "version": "3.7.6"
  }
 },
 "nbformat": 4,
 "nbformat_minor": 4
}

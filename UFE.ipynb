{
 "cells": [
  {
   "cell_type": "markdown",
   "metadata": {},
   "source": [
    "# Equações de Friedmann sem perturbações\n",
    "\n",
    "Primeiro vamos explorar ao máximo as equações de Friedmann, para o modelo $\\Lambda CDM$ em um universo plano ($k = 0$). As equações são:\n",
    "\n",
    "$$ \\left( \\frac{\\dot a}{a} \\right)^2 = \\frac{8 \\pi G \\rho}{3} $$\n",
    "\n",
    "$$ \\frac{\\ddot a}{a} = -\\frac{4 \\pi G}{3}\\left(\\rho + \\frac{3p}{c^2}\\right) $$\n",
    "\n",
    "\n",
    "\n"
   ]
  },
  {
   "cell_type": "markdown",
   "metadata": {},
   "source": [
    "A densidade de energia para o modelo $\\Lambda CDM$, com $k \\approx 0$, é distribuida da segunte forma:\n",
    "\n",
    "$$ \\Omega_m + \\Omega_r + \\Omega_\\Lambda = 1 $$\n",
    "\n",
    "$$ \\Omega_m = 0.3089 \\pm 0.0062, \\Omega_r \\approx 10^{-5}, \\Omega_\\Lambda = 0.6911 \\pm 0.0062 $$\n",
    "\n",
    "$$ \\Omega_i = \\frac{\\rho_i}{\\rho_{cr}} $$\n",
    "\n",
    "O valor de $ \\rho_{cr} $ pode ser obtido a partir da primeira equação de Friedmann:\n",
    "\n",
    "$$ \\rho_{cr} = \\frac{3H_0}{8 \\pi G} $$\n",
    "\n",
    "Onde $H_0$ é $ 69.8 \\pm 1.9 (km/s)/Mpc $"
   ]
  },
  {
   "cell_type": "code",
   "execution_count": 9,
   "metadata": {},
   "outputs": [],
   "source": [
    "#Estas constante serão utilizadas extensivamente#\n",
    "\n",
    "H_0 = 69.8\n",
    "\n",
    "Omega_m = 0.3089\n",
    "\n",
    "Omega_r = 10**-5\n",
    "\n",
    "Omega_L = 0.6911"
   ]
  },
  {
   "cell_type": "markdown",
   "metadata": {},
   "source": [
    "## Contante de Hubble em função do redshift\n",
    "\n",
    "Dividindo a primeira equação de Friedmann por $ \\rho_{cr} $ e sustituindo $ \\left(\\frac{\\dot a}{a}\\right)^2 $ por $ H^2 $ temos: \n",
    "\n",
    "$$ H^2 = H_0^2 \\frac{\\rho_i}{\\rho_{cr}} = H_0^2 \\Omega_i $$\n",
    "\n",
    "Como cada componente da energia do universo diminui com uma potência diferente de $a$ obtemos:\n",
    "\n",
    "$$ H^2 = H_0^2 \\left(\\frac{\\Omega_m}{a^3} + \\frac{\\Omega_r}{a^4} +\\Omega_\\Lambda \\right) $$\n",
    "\n",
    "Substituindo o fator de escala usando a seguinte relação:\n",
    "\n",
    "$$ a(t) = \\frac{1}{1 + z} $$\n",
    "\n",
    "A expressão para a Constante de Hubble em função do Redshift fica:\n",
    "\n",
    "$$ H^2 = H_0^2 \\left(\\Omega_m\\left(1 + z\\right)^3 + \\Omega_r\\left(1 + z\\right)^4 +\\Omega_\\Lambda \\right) $$"
   ]
  },
  {
   "cell_type": "code",
   "execution_count": 19,
   "metadata": {},
   "outputs": [
    {
     "data": {
      "text/plain": [
       "Text(0.5, 0, 'Redshift z')"
      ]
     },
     "execution_count": 19,
     "metadata": {},
     "output_type": "execute_result"
    },
    {
     "data": {
      "image/png": "[encoded data removed]",
      "text/plain": [
       "<Figure size 432x288 with 1 Axes>"
      ]
     },
     "metadata": {
      "needs_background": "light"
     },
     "output_type": "display_data"
    }
   ],
   "source": [
    "import matplotlib.pyplot as plt\n",
    "import numpy as np\n",
    "\n",
    "z = []\n",
    "Hubble = []\n",
    "\n",
    "for i in range(1500):\n",
    "    z.append(i)\n",
    "    H = (H_0**2)*((Omega_m)*((1+i)**3) + (Omega_r)*((1+i)**4) + (Omega_L))**0.5\n",
    "    Hubble.append(H)\n",
    "\n",
    "plt.plot(z, Hubble, 'r')\n",
    "plt.ylabel('Hubble Constant in terms of $H_0$')\n",
    "plt.xlabel('Redshift z')"
   ]
  },
  {
   "cell_type": "code",
   "execution_count": null,
   "metadata": {},
   "outputs": [],
   "source": []
  }
 ],
 "metadata": {
  "kernelspec": {
   "display_name": "Python 3",
   "language": "python",
   "name": "python3"
  },
  "language_info": {
   "codemirror_mode": {
    "name": "ipython",
    "version": 3
   },
   "file_extension": ".py",
   "mimetype": "text/x-python",
   "name": "python",
   "nbconvert_exporter": "python",
   "pygments_lexer": "ipython3",
   "version": "3.7.6"
  }
 },
 "nbformat": 4,
 "nbformat_minor": 4
}

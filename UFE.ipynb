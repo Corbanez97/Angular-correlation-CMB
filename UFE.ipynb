{
 "cells": [
  {
   "cell_type": "markdown",
   "metadata": {},
   "source": [
    "# Equações de Friedmann sem perturbações\n",
    "\n",
    "Primeiro vamos explorar ao máximo as equações de Friedmann, para o modelo $\\Lambda CDM$ em um universo plano ($k = 0$). As equações são:\n",
    "\n",
    "$$ \\left( \\frac{\\dot a}{a} \\right)^2 = \\frac{8 \\pi G \\rho}{3} $$\n",
    "\n",
    "$$ \\frac{\\ddot a}{a} = -\\frac{4 \\pi G}{3}\\left(\\rho + \\frac{3p}{c^2}\\right) $$\n",
    "\n",
    "\n",
    "\n"
   ]
  },
  {
   "cell_type": "markdown",
   "metadata": {},
   "source": [
    "A densidade de energia para o modelo $\\Lambda CDM$, com $k \\approx 0$, é distribuida da segunte forma:\n",
    "\n",
    "$$ \\Omega_m + \\Omega_r + \\Omega_\\Lambda = 1 $$\n",
    "\n",
    "$$ \\Omega_m = 0.3089 \\pm 0.0062, \\Omega_r \\approx 10^{-5}, \\Omega_\\Lambda = 0.6911 \\pm 0.0062 $$\n",
    "\n",
    "$$ \\Omega_i = \\frac{\\rho_i}{\\rho_{cr}} $$\n",
    "\n",
    "O valor de $ \\rho_{cr} $ pode ser obtido a partir da primeira equação de Friedmann:\n",
    "\n",
    "$$ \\rho_{cr} = \\frac{3H_0}{8 \\pi G} $$"
   ]
  },
  {
   "cell_type": "code",
   "execution_count": 1,
   "metadata": {},
   "outputs": [
    {
     "name": "stdout",
     "output_type": "stream",
     "text": [
      "Hello World\n"
     ]
    }
   ],
   "source": [
    "print('Hello World')"
   ]
  },
  {
   "cell_type": "code",
   "execution_count": null,
   "metadata": {},
   "outputs": [],
   "source": []
  }
 ],
 "metadata": {
  "kernelspec": {
   "display_name": "Python 3",
   "language": "python",
   "name": "python3"
  },
  "language_info": {
   "codemirror_mode": {
    "name": "ipython",
    "version": 3
   },
   "file_extension": ".py",
   "mimetype": "text/x-python",
   "name": "python",
   "nbconvert_exporter": "python",
   "pygments_lexer": "ipython3",
   "version": "3.7.6"
  }
 },
 "nbformat": 4,
 "nbformat_minor": 4
}
